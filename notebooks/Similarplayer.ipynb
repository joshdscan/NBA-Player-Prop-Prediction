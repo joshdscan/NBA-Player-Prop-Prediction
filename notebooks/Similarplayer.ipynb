{
 "cells": [
  {
   "cell_type": "markdown",
   "metadata": {},
   "source": [
    "## This is to only retreive data. We use 2 "
   ]
  },
  {
   "cell_type": "code",
   "execution_count": 44,
   "metadata": {},
   "outputs": [],
   "source": [
    "from nba_api.stats.static import players\n",
    "from nba_api.stats.endpoints import playerindex\n",
    "import pandas as pd"
   ]
  },
  {
   "cell_type": "code",
   "execution_count": 45,
   "metadata": {},
   "outputs": [],
   "source": [
    "\n",
    "active_player_list=(playerindex.PlayerIndex())"
   ]
  },
  {
   "cell_type": "code",
   "execution_count": 46,
   "metadata": {},
   "outputs": [],
   "source": [
    "player_data=pd.DataFrame(active_player_list.get_data_frames()[0])"
   ]
  },
  {
   "cell_type": "code",
   "execution_count": 47,
   "metadata": {},
   "outputs": [],
   "source": [
    "columns_to_drop=[\n",
    " 'PLAYER_SLUG',\n",
    " 'TEAM_ID',\n",
    " 'TEAM_SLUG',\n",
    " 'IS_DEFUNCT',\n",
    " 'TEAM_CITY',\n",
    " 'TEAM_NAME',\n",
    " 'TEAM_ABBREVIATION',\n",
    " 'JERSEY_NUMBER', 'COUNTRY',\n",
    " 'DRAFT_YEAR',\n",
    " 'DRAFT_ROUND',\n",
    " 'DRAFT_NUMBER',\n",
    " 'ROSTER_STATUS',\n",
    " 'FROM_YEAR',\n",
    " 'TO_YEAR',\n",
    " 'COLLEGE',\n",
    " 'STATS_TIMEFRAME',\n",
    " 'POSITION',\n",
    " 'HEIGHT',\n",
    " 'WEIGHT']"
   ]
  },
  {
   "cell_type": "code",
   "execution_count": 48,
   "metadata": {},
   "outputs": [],
   "source": [
    "player_data=player_data.drop(columns=columns_to_drop)"
   ]
  },
  {
   "cell_type": "code",
   "execution_count": 49,
   "metadata": {},
   "outputs": [
    {
     "data": {
      "text/html": [
       "<div>\n",
       "<style scoped>\n",
       "    .dataframe tbody tr th:only-of-type {\n",
       "        vertical-align: middle;\n",
       "    }\n",
       "\n",
       "    .dataframe tbody tr th {\n",
       "        vertical-align: top;\n",
       "    }\n",
       "\n",
       "    .dataframe thead th {\n",
       "        text-align: right;\n",
       "    }\n",
       "</style>\n",
       "<table border=\"1\" class=\"dataframe\">\n",
       "  <thead>\n",
       "    <tr style=\"text-align: right;\">\n",
       "      <th></th>\n",
       "      <th>PERSON_ID</th>\n",
       "      <th>PLAYER_LAST_NAME</th>\n",
       "      <th>PLAYER_FIRST_NAME</th>\n",
       "      <th>PTS</th>\n",
       "      <th>REB</th>\n",
       "      <th>AST</th>\n",
       "    </tr>\n",
       "  </thead>\n",
       "  <tbody>\n",
       "    <tr>\n",
       "      <th>136</th>\n",
       "      <td>201142</td>\n",
       "      <td>Durant</td>\n",
       "      <td>Kevin</td>\n",
       "      <td>27.1</td>\n",
       "      <td>6.6</td>\n",
       "      <td>5.0</td>\n",
       "    </tr>\n",
       "  </tbody>\n",
       "</table>\n",
       "</div>"
      ],
      "text/plain": [
       "     PERSON_ID PLAYER_LAST_NAME PLAYER_FIRST_NAME   PTS  REB  AST\n",
       "136     201142           Durant             Kevin  27.1  6.6  5.0"
      ]
     },
     "execution_count": 49,
     "metadata": {},
     "output_type": "execute_result"
    }
   ],
   "source": [
    "#import player ID\n",
    "player_id = 201142\n",
    "player_query=player_data.loc[player_data['PERSON_ID'] == player_id]\n",
    "player_query"
   ]
  },
  {
   "cell_type": "code",
   "execution_count": 50,
   "metadata": {},
   "outputs": [
    {
     "data": {
      "text/plain": [
       "PERSON_ID              int64\n",
       "PLAYER_LAST_NAME      object\n",
       "PLAYER_FIRST_NAME     object\n",
       "PTS                  float64\n",
       "REB                  float64\n",
       "AST                  float64\n",
       "dtype: object"
      ]
     },
     "execution_count": 50,
     "metadata": {},
     "output_type": "execute_result"
    }
   ],
   "source": [
    "player_query.dtypes"
   ]
  },
  {
   "cell_type": "code",
   "execution_count": 61,
   "metadata": {},
   "outputs": [
    {
     "name": "stdout",
     "output_type": "stream",
     "text": [
      "     PERSON_ID PLAYER_LAST_NAME PLAYER_FIRST_NAME   PTS  REB  AST\n",
      "24     1631094         Banchero             Paolo  22.6  6.9  5.4\n",
      "29     1630567           Barnes           Scottie  19.9  8.2  6.1\n",
      "139    1630162          Edwards           Anthony  25.9  5.4  5.1\n",
      "286    1628398            Kuzma              Kyle  22.2  6.6  4.2\n",
      "357    1629630           Morant                Ja  25.1  5.6  8.1\n",
      "422     203944           Randle            Julius  24.0  9.2  5.0\n",
      "454    1630578           Sengun           Alperen  21.1  9.3  5.0\n",
      "461    1627783           Siakam            Pascal  21.7  7.1  4.3\n",
      "560    1629627       Williamson              Zion  22.9  5.8  5.0\n"
     ]
    }
   ],
   "source": [
    "\n",
    "def filter_similar_players(dataframe, player_id, percentage):\n",
    "    # Extract the specific player's data\n",
    "    player_data = dataframe.loc[dataframe['PERSON_ID'] == player_id].iloc[0]\n",
    "    \n",
    "    # Filter players within the specified percentage range for PTS, REB, and AST\n",
    "    filtered_data = dataframe[\n",
    "        (dataframe['PTS'].between(player_data['PTS'] * (1 - percentage / 100), player_data['PTS'] * (1 + percentage / 100))) &\n",
    "        (dataframe['REB'].between(player_data['REB'] * (1 - percentage / 100), player_data['REB'] * (1 + percentage / 100))) &\n",
    "        (dataframe['AST'].between(player_data['AST'] * (1 - percentage / 100), player_data['AST'] * (1 + percentage / 100)))\n",
    "    ]\n",
    "    \n",
    "    return filtered_data\n",
    "\n",
    "similar_players = filter_similar_players(player_data, 1630567, 35)\n",
    "print(similar_players)\n",
    "\n"
   ]
  },
  {
   "cell_type": "markdown",
   "metadata": {},
   "source": [
    "# Find benchmark player\n",
    "# Find players similar in scoring\n",
    "# Return a list of similar players\n",
    "# View how these players did in their last 5 against said team\n"
   ]
  }
 ],
 "metadata": {
  "kernelspec": {
   "display_name": "base",
   "language": "python",
   "name": "python3"
  },
  "language_info": {
   "codemirror_mode": {
    "name": "ipython",
    "version": 3
   },
   "file_extension": ".py",
   "mimetype": "text/x-python",
   "name": "python",
   "nbconvert_exporter": "python",
   "pygments_lexer": "ipython3",
   "version": "3.11.5"
  }
 },
 "nbformat": 4,
 "nbformat_minor": 2
}
